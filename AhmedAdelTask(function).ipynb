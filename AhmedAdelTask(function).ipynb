{
 "cells": [
  {
   "cell_type": "markdown",
   "id": "037c73ac-0d86-4d5a-ac97-b8163844f2c7",
   "metadata": {},
   "source": [
    "## Fanction "
   ]
  },
  {
   "cell_type": "markdown",
   "id": "9ddbbe12-2784-4faa-9799-8ba9e7fb71e4",
   "metadata": {},
   "source": [
    "- Write a function that takes two numbers as arguments and returns their sum."
   ]
  },
  {
   "cell_type": "code",
   "execution_count": 2,
   "id": "029a5666-3416-4670-9644-a19b5fd88d26",
   "metadata": {},
   "outputs": [],
   "source": [
    "def my_sum(num1, num2):\n",
    "    print('sum = ',num1+num2)    "
   ]
  },
  {
   "cell_type": "code",
   "execution_count": 3,
   "id": "f7e0881d-061d-410e-9208-0c4dcd6f0e9a",
   "metadata": {},
   "outputs": [
    {
     "name": "stdout",
     "output_type": "stream",
     "text": [
      "sum =  9\n"
     ]
    }
   ],
   "source": [
    "my_sum(4,5)"
   ]
  },
  {
   "cell_type": "markdown",
   "id": "c6c90bb5-b251-407e-b13a-4c3a320f20ac",
   "metadata": {},
   "source": [
    "- Write a function that takes a list of numbers as an argument and returns the sum of those numbers."
   ]
  },
  {
   "cell_type": "code",
   "execution_count": 189,
   "id": "13e36074-9d7d-4c6d-9652-71c37a63b20c",
   "metadata": {},
   "outputs": [],
   "source": [
    "def my_sum(sum):\n",
    "    x=0\n",
    "    for i in sum:\n",
    "        x+=i\n",
    "        \n",
    "    print('sum of list numbers = ',x)\n",
    "my_list=[1,2,3,4]"
   ]
  },
  {
   "cell_type": "code",
   "execution_count": 190,
   "id": "f8a90255-14a2-45e5-a265-646a13fd4167",
   "metadata": {},
   "outputs": [
    {
     "name": "stdout",
     "output_type": "stream",
     "text": [
      "sum of list numbers =  10\n"
     ]
    }
   ],
   "source": [
    "my_sum(my_list)"
   ]
  },
  {
   "cell_type": "markdown",
   "id": "5b13316d-6e99-40cc-8e20-c1cef178b500",
   "metadata": {},
   "source": [
    "- Write a function that takes a string as an argument and returns the length of that string."
   ]
  },
  {
   "cell_type": "code",
   "execution_count": 185,
   "id": "faf27133-fcec-4fb1-8ee5-33fe55d782ad",
   "metadata": {},
   "outputs": [],
   "source": [
    "def my_string(word):\n",
    "    len=0\n",
    "    for i in word:\n",
    "        #condition for not counting distances\n",
    "        if i==' ':\n",
    "            len=len\n",
    "        else:\n",
    "         len+=1\n",
    "    print('length of that string = ',len)    "
   ]
  },
  {
   "cell_type": "code",
   "execution_count": 186,
   "id": "4b8a74e0-55d3-483b-ad65-092cd3433a77",
   "metadata": {},
   "outputs": [
    {
     "name": "stdout",
     "output_type": "stream",
     "text": [
      "length of that string =  9\n"
     ]
    }
   ],
   "source": [
    "my_string('ahmed adel')\n"
   ]
  },
  {
   "cell_type": "markdown",
   "id": "4f940a21-5052-4cf3-85ed-ec3f0b757f55",
   "metadata": {},
   "source": [
    "- Write a function that takes a list of strings as an argument and returns the length of the longest string in the list."
   ]
  },
  {
   "cell_type": "code",
   "execution_count": 183,
   "id": "5ad1b6ba-f2a0-4cd2-ab9e-daf2ee67f102",
   "metadata": {},
   "outputs": [],
   "source": [
    "def my_string(word):\n",
    "    long_str=word[0]\n",
    "    for i in word:\n",
    "        if len(long_str)<len(i):\n",
    "            long_str=i\n",
    "        else:\n",
    "            long_str=long_str\n",
    "    print('longest string is',long_str)       \n",
    "            "
   ]
  },
  {
   "cell_type": "code",
   "execution_count": 184,
   "id": "23530052-32c9-43d9-9368-6bcd08689995",
   "metadata": {},
   "outputs": [
    {
     "name": "stdout",
     "output_type": "stream",
     "text": [
      "longest string is abdelrahman\n"
     ]
    }
   ],
   "source": [
    "my_list=['zain','ahmed','abdelrahman','mohamed']\n",
    "my_string(my_list)"
   ]
  },
  {
   "cell_type": "markdown",
   "id": "c32bc5e5-da6a-4fc1-b634-84f58974b6a8",
   "metadata": {},
   "source": [
    "- Write a function that takes a list of numbers as an argument and returns the average of those numbers."
   ]
  },
  {
   "cell_type": "code",
   "execution_count": 171,
   "id": "e2a2b96f-1918-494a-bda5-47d1d5027249",
   "metadata": {},
   "outputs": [],
   "source": [
    "def my_avarage(num):\n",
    "    sum=0\n",
    "    count=0\n",
    "    for i in num :\n",
    "        count+=1\n",
    "        sum+=i\n",
    "    avg=sum/count\n",
    "    print('avarage of numbers = ',avg)    "
   ]
  },
  {
   "cell_type": "code",
   "execution_count": 172,
   "id": "e1ad7d48-cb7a-4393-8c6a-96bb4354ebed",
   "metadata": {},
   "outputs": [
    {
     "name": "stdout",
     "output_type": "stream",
     "text": [
      "avarage of numbers =  24.5\n"
     ]
    }
   ],
   "source": [
    "numbers=[10,6,67,6,50,8]\n",
    "my_avarage(numbers)"
   ]
  },
  {
   "cell_type": "markdown",
   "id": "c389e500-46ee-40f6-9c57-17a0649edc63",
   "metadata": {},
   "source": [
    "- Write a function that takes a string as an argument and returns True if the string is a palindrome (reads the same forwards and backwards) and False otherwise."
   ]
  },
  {
   "cell_type": "code",
   "execution_count": 107,
   "id": "d03a375f-5718-4858-b42c-8b05b5f3f5e1",
   "metadata": {},
   "outputs": [],
   "source": [
    "def palindrome(word):\n",
    "    rev=word[::-1]\n",
    "    if rev==word:\n",
    "        print('true')\n",
    "    else:\n",
    "        print('false')"
   ]
  },
  {
   "cell_type": "code",
   "execution_count": 108,
   "id": "7f4cc590-1d95-4619-8451-eaebd27132ea",
   "metadata": {},
   "outputs": [
    {
     "name": "stdout",
     "output_type": "stream",
     "text": [
      "true\n"
     ]
    }
   ],
   "source": [
    "palindrome('level')"
   ]
  },
  {
   "cell_type": "markdown",
   "id": "6572eb4a-7322-4def-b606-896135c22124",
   "metadata": {},
   "source": [
    "- Write a function that takes a list of numbers as an argument and returns a new list containing only the even numbers from the original list."
   ]
  },
  {
   "cell_type": "code",
   "execution_count": 169,
   "id": "52a9054a-f8fc-4fa6-b94e-0623a0f7093e",
   "metadata": {},
   "outputs": [],
   "source": [
    "def even_numbers(num):\n",
    "    print('original list = ',num)\n",
    "    even=[]\n",
    "    for i in num:\n",
    "        if i%2==0:\n",
    "            even.append(i)\n",
    "        else:\n",
    "            even=even\n",
    "    print('even list = ',even)   "
   ]
  },
  {
   "cell_type": "code",
   "execution_count": 170,
   "id": "c8c91a17-7c46-48b6-ae79-cc6bdb94bf8b",
   "metadata": {},
   "outputs": [
    {
     "name": "stdout",
     "output_type": "stream",
     "text": [
      "original list =  [1, 2, 3, 4, 5, 6, 8, 9, 10]\n",
      "even list =  [2, 4, 6, 8, 10]\n"
     ]
    }
   ],
   "source": [
    "num=[1,2,3,4,5,6,8,9,10]\n",
    "even_numbers(num)"
   ]
  },
  {
   "cell_type": "markdown",
   "id": "1ba77608-13ac-4dd4-9aa3-322cc099e485",
   "metadata": {},
   "source": [
    "- Write a function that takes a list of numbers as an argument and returns a new list containing the squares of those numbers."
   ]
  },
  {
   "cell_type": "code",
   "execution_count": 167,
   "id": "1e2e22ef-86bd-4f40-af4a-8f2951e2ccbf",
   "metadata": {},
   "outputs": [],
   "source": [
    "def square_numbers(num):\n",
    "    print('original list = ',num)\n",
    "    square=[]\n",
    "    for i in num:\n",
    "        i=i*i\n",
    "        square.append(i)\n",
    "\n",
    "    print('square list = ',square)   "
   ]
  },
  {
   "cell_type": "code",
   "execution_count": 168,
   "id": "c8e84052-20e3-4031-88bf-a984b4f58063",
   "metadata": {},
   "outputs": [
    {
     "name": "stdout",
     "output_type": "stream",
     "text": [
      "original list =  [1, 2, 3, 4, 5, 6, 8, 9, 10]\n",
      "square list =  [1, 4, 9, 16, 25, 36, 64, 81, 100]\n"
     ]
    }
   ],
   "source": [
    "num=[1,2,3,4,5,6,8,9,10]\n",
    "square_numbers(num)"
   ]
  }
 ],
 "metadata": {
  "kernelspec": {
   "display_name": "Python 3 (ipykernel)",
   "language": "python",
   "name": "python3"
  },
  "language_info": {
   "codemirror_mode": {
    "name": "ipython",
    "version": 3
   },
   "file_extension": ".py",
   "mimetype": "text/x-python",
   "name": "python",
   "nbconvert_exporter": "python",
   "pygments_lexer": "ipython3",
   "version": "3.10.9"
  }
 },
 "nbformat": 4,
 "nbformat_minor": 5
}
